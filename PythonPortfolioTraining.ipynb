{
  "nbformat": 4,
  "nbformat_minor": 0,
  "metadata": {
    "colab": {
      "provenance": [],
      "authorship_tag": "ABX9TyOgjmCMyquUEqCq1bmjZK36",
      "include_colab_link": true
    },
    "kernelspec": {
      "name": "python3",
      "display_name": "Python 3"
    },
    "language_info": {
      "name": "python"
    }
  },
  "cells": [
    {
      "cell_type": "markdown",
      "metadata": {
        "id": "view-in-github",
        "colab_type": "text"
      },
      "source": [
        "<a href=\"https://colab.research.google.com/github/Drmoxer/Drmoxer/blob/main/PythonPortfolioTraining.ipynb\" target=\"_parent\"><img src=\"https://colab.research.google.com/assets/colab-badge.svg\" alt=\"Open In Colab\"/></a>"
      ]
    },
    {
      "cell_type": "markdown",
      "source": [
        "🧩 1. Intro / Programming Basics\n",
        "\n",
        "Objetivo: Entender o fluxo lógico e entrada/saída.\n",
        "\n",
        "Exercícios:\n",
        "\n",
        "🟢 Crie um programa que pergunte o nome do usuário e o cumprimente com uma frase personalizada.\n"
      ],
      "metadata": {
        "id": "vcZ7YWsVVqsF"
      }
    },
    {
      "cell_type": "code",
      "execution_count": 21,
      "metadata": {
        "id": "0tEKQykLVhCb",
        "colab": {
          "base_uri": "https://localhost:8080/"
        },
        "outputId": "21b5d767-f280-461a-bf56-d33f09e11a2f"
      },
      "outputs": [
        {
          "output_type": "stream",
          "name": "stdout",
          "text": [
            "Qual o seu nome? Moisés\n",
            "Seja Bem-Vinda ao canal de atendimento  Moisés\n"
          ]
        }
      ],
      "source": [
        "nomeDoCliente = input(\"Qual o seu nome? \")\n",
        "print(\"Seja Bem-Vinda ao canal de atendimento \", nomeDoCliente)\n",
        "\n"
      ]
    },
    {
      "cell_type": "markdown",
      "source": [
        "🟡 Faça um programa que receba a idade e diga se o usuário é menor de idade, adulto ou idoso.\n",
        "\n",
        "\n"
      ],
      "metadata": {
        "id": "21x3CwU8ZIIq"
      }
    },
    {
      "cell_type": "code",
      "source": [
        "idadeDoCliente = int(input(\"Digite sua idade por favor: \"))\n",
        "if idadeDoCliente >= 20:\n",
        "    print(\" Seja Bem-Vindo Senhor\" , nomeDoCliente , \"Você será encaminhado para o setor de Responsáveis \")\n",
        "else:\n",
        "    print(\"Seja Bem-Vindo Aluno\",nomeDoCliente, \"Você será encaminhado para a página do Aluno\")\n",
        ""
      ],
      "metadata": {
        "colab": {
          "base_uri": "https://localhost:8080/"
        },
        "id": "evCxWONeXK1F",
        "outputId": "8ecca674-d451-4914-8aeb-9f96beaf4167"
      },
      "execution_count": 22,
      "outputs": [
        {
          "output_type": "stream",
          "name": "stdout",
          "text": [
            "Digite sua idade por favor: 18\n",
            "Seja Bem-Vindo Aluno Moisés Você será encaminhado para a página do Aluno\n"
          ]
        }
      ]
    },
    {
      "cell_type": "markdown",
      "source": [
        "🔵 Gere uma “mini ficha de cadastro” (nome, idade, profissão, cidade) e exiba como um dicionário Python formatado."
      ],
      "metadata": {
        "id": "WIqyjgSPZXpB"
      }
    },
    {
      "cell_type": "code",
      "source": [
        "Print(\" Seja Bem-Vindo ao Cadastro de Alunos, Por favor insira sua idade para encaminhar você para iniciar o cadastro\")\n",
        "idadeDoCliente=int(input(\"Digite sua idade\"))"
      ],
      "metadata": {
        "colab": {
          "base_uri": "https://localhost:8080/",
          "height": 176
        },
        "id": "DqHGnhiaZY9o",
        "outputId": "1abf065f-7a5e-418e-faec-ce3bcbcd2b0f"
      },
      "execution_count": 24,
      "outputs": [
        {
          "output_type": "error",
          "ename": "NameError",
          "evalue": "name 'Print' is not defined",
          "traceback": [
            "\u001b[0;31m---------------------------------------------------------------------------\u001b[0m",
            "\u001b[0;31mNameError\u001b[0m                                 Traceback (most recent call last)",
            "\u001b[0;32m/tmp/ipython-input-1923351775.py\u001b[0m in \u001b[0;36m<cell line: 0>\u001b[0;34m()\u001b[0m\n\u001b[0;32m----> 1\u001b[0;31m \u001b[0mPrint\u001b[0m\u001b[0;34m(\u001b[0m\u001b[0;34m\" Seja Bem-Vindo ao Cadastro de Alunos, Por favor insira sua idade para encaminhar você para iniciar o cadastro\"\u001b[0m\u001b[0;34m)\u001b[0m\u001b[0;34m\u001b[0m\u001b[0;34m\u001b[0m\u001b[0m\n\u001b[0m\u001b[1;32m      2\u001b[0m \u001b[0midadeDoCliente\u001b[0m\u001b[0;34m=\u001b[0m\u001b[0mint\u001b[0m\u001b[0;34m(\u001b[0m\u001b[0minput\u001b[0m\u001b[0;34m(\u001b[0m\u001b[0;34m\"Digite sua idade\"\u001b[0m\u001b[0;34m)\u001b[0m\u001b[0;34m)\u001b[0m\u001b[0;34m\u001b[0m\u001b[0;34m\u001b[0m\u001b[0m\n",
            "\u001b[0;31mNameError\u001b[0m: name 'Print' is not defined"
          ]
        }
      ]
    }
  ]
}